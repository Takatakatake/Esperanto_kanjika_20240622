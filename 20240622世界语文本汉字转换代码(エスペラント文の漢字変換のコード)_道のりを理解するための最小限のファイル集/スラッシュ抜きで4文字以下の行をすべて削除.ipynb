{
 "cells": [
  {
   "cell_type": "code",
   "execution_count": 1,
   "id": "ee8221a6-83a7-449f-b704-740986cd551c",
   "metadata": {},
   "outputs": [
    {
     "data": {
      "text/plain": [
       "'./filtered_text.txt'"
      ]
     },
     "execution_count": 1,
     "metadata": {},
     "output_type": "execute_result"
    }
   ],
   "source": [
    "# I will modify the previous function to write the filtered lines to a new text file.\n",
    "\n",
    "def write_filtered_text_to_file(input_file_path, output_file_path):\n",
    "    # Read the file\n",
    "    with open(input_file_path, 'r', encoding='utf-8') as file:\n",
    "        lines = file.readlines()\n",
    "    \n",
    "    # Process and write to new file\n",
    "    with open(output_file_path, 'w', encoding='utf-8') as outfile:\n",
    "        for line in lines:\n",
    "            # Remove slashes and whitespace\n",
    "            stripped_line = line.replace('/', '').strip()\n",
    "            # Check if the line length is greater than 5 and write to file\n",
    "            if len(stripped_line) >= 5:\n",
    "                outfile.write(line)\n",
    "\n",
    "# Define paths\n",
    "input_path = \"./espsof_output_一時完成20240618.txt\"\n",
    "output_path = \"./filtered_text.txt\"\n",
    "\n",
    "# Process the file and write to a new file\n",
    "write_filtered_text_to_file(input_path, output_path)\n",
    "\n",
    "output_path\n"
   ]
  },
  {
   "cell_type": "code",
   "execution_count": null,
   "id": "a355c7cc-8014-4df5-9ed3-661bd64bdcff",
   "metadata": {},
   "outputs": [],
   "source": []
  }
 ],
 "metadata": {
  "kernelspec": {
   "display_name": "Python 3 (ipykernel)",
   "language": "python",
   "name": "python3"
  },
  "language_info": {
   "codemirror_mode": {
    "name": "ipython",
    "version": 3
   },
   "file_extension": ".py",
   "mimetype": "text/x-python",
   "name": "python",
   "nbconvert_exporter": "python",
   "pygments_lexer": "ipython3",
   "version": "3.8.18"
  }
 },
 "nbformat": 4,
 "nbformat_minor": 5
}
